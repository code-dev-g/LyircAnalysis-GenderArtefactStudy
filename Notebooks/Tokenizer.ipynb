{
 "cells": [
  {
   "cell_type": "code",
   "execution_count": 54,
   "metadata": {},
   "outputs": [],
   "source": [
    "class Tokenizer():\n",
    "\n",
    "    '''\n",
    "    Tokenizer class for tokenizing the text data\n",
    "    \n",
    "    Split Modes:\n",
    "\n",
    "        1. 'space' - split the text on space\n",
    "    \n",
    "        2. 'periods' - split the text on periods and spaces\n",
    "    \n",
    "        3. 'specialchars' - split the text on non-alphanumeric characters\n",
    "\n",
    "        4. 'newline' - split the text on newline characters\n",
    "        \n",
    "        5. 'custom' - split the text on custom characters\n",
    "\n",
    "    '''\n",
    "\n",
    "    def __init__(self, split_mode, custom_chars=None):\n",
    "        self.split_modes = split_mode\n",
    "        self.custom_chars = custom_chars\n",
    "\n",
    "    def tokenize(self, text):\n",
    "        '''\n",
    "        Convert to the required character set and tokenize the text based on the split mode\n",
    "        '''\n",
    "\n",
    "        if self.split_modes == 'space':\n",
    "            return self.tokenize_space(text)\n",
    "        elif self.split_modes == 'periods':\n",
    "            return self.tokenize_periods(text)\n",
    "        elif self.split_modes == 'specialchars':\n",
    "            return self.tokenize_specialchars(text)\n",
    "        elif self.split_modes == 'newline':\n",
    "            return self.tokenize_newline(text)\n",
    "        elif self.split_modes == 'custom':\n",
    "            return self.tokenize_custom(text)\n",
    "        else:\n",
    "            raise ValueError('Invalid split mode')\n",
    "        \n",
    "    def tokenize_space(self, text):\n",
    "        '''\n",
    "        Split the text on space\n",
    "        '''\n",
    "        return text.split()\n",
    "    \n",
    "    def tokenize_periods(self, text):\n",
    "        '''\n",
    "        Split the text on periods and spaces\n",
    "        '''\n",
    "        import re\n",
    "        return re.split('[. ]', text)\n",
    "    \n",
    "    def tokenize_specialchars(self, text):\n",
    "        '''\n",
    "        Split the text on non-alphanumeric characters\n",
    "        '''\n",
    "        \n",
    "        import re\n",
    "        words = re.split(r'[`\\-=~!@#$%^&*()_+\\[\\]{};\\'\\\\:\"|<,./<>? ]', text)\n",
    "        words = [word for word in words if word != '']\n",
    "        return words\n",
    "\n",
    "    \n",
    "    def tokenize_newline(self, text):\n",
    "        '''\n",
    "        Split the text on newline characters\n",
    "        '''\n",
    "        return text.split('\\n')\n",
    "    \n",
    "    def tokenize_custom(self, text):\n",
    "        '''\n",
    "        Split the text on custom characters\n",
    "        '''\n",
    "        import re\n",
    "        if self.custom_chars == None:\n",
    "            raise ValueError('Custom characters not specified')\n",
    "        words = re.split('[{}]'.format(self.custom_chars), text)\n",
    "        words = [word for word in words if word != '']\n",
    "        return words"
   ]
  },
  {
   "cell_type": "code",
   "execution_count": 55,
   "metadata": {},
   "outputs": [
    {
     "data": {
      "text/plain": [
       "['Hello', 'World']"
      ]
     },
     "execution_count": 55,
     "metadata": {},
     "output_type": "execute_result"
    }
   ],
   "source": [
    "tokenizer = Tokenizer('space')\n",
    "tokenizer.tokenize('Hello World')"
   ]
  },
  {
   "cell_type": "code",
   "execution_count": 56,
   "metadata": {},
   "outputs": [
    {
     "data": {
      "text/plain": [
       "['Hello', 'World', '', 'How', 'are', 'you?']"
      ]
     },
     "execution_count": 56,
     "metadata": {},
     "output_type": "execute_result"
    }
   ],
   "source": [
    "tokenizer = Tokenizer('periods')\n",
    "tokenizer.tokenize('Hello World. How are you?')"
   ]
  },
  {
   "cell_type": "code",
   "execution_count": 57,
   "metadata": {},
   "outputs": [
    {
     "data": {
      "text/plain": [
       "['Hello', 'World', 'How', 'are', 'you']"
      ]
     },
     "execution_count": 57,
     "metadata": {},
     "output_type": "execute_result"
    }
   ],
   "source": [
    "tokenizer = Tokenizer('specialchars')\n",
    "tokenizer.tokenize('Hello World. How are you?')"
   ]
  },
  {
   "cell_type": "code",
   "execution_count": 58,
   "metadata": {},
   "outputs": [
    {
     "data": {
      "text/plain": [
       "['Hello World.', 'How are you?']"
      ]
     },
     "execution_count": 58,
     "metadata": {},
     "output_type": "execute_result"
    }
   ],
   "source": [
    "tokenizer = Tokenizer('newline')\n",
    "tokenizer.tokenize('Hello World.\\nHow are you?')"
   ]
  },
  {
   "cell_type": "code",
   "execution_count": 59,
   "metadata": {},
   "outputs": [
    {
     "data": {
      "text/plain": [
       "['Hello World', ' How are you?']"
      ]
     },
     "execution_count": 59,
     "metadata": {},
     "output_type": "execute_result"
    }
   ],
   "source": [
    "tokenizer = Tokenizer('custom', custom_chars='.')\n",
    "tokenizer.tokenize('Hello World. How are you?')"
   ]
  },
  {
   "cell_type": "code",
   "execution_count": 60,
   "metadata": {},
   "outputs": [
    {
     "data": {
      "text/plain": [
       "['Hello',\n",
       " 'World',\n",
       " 'How',\n",
       " 'are',\n",
       " 'you?',\n",
       " 'I',\n",
       " 'am',\n",
       " 'fine',\n",
       " 'How',\n",
       " 'about',\n",
       " 'you?']"
      ]
     },
     "execution_count": 60,
     "metadata": {},
     "output_type": "execute_result"
    }
   ],
   "source": [
    "# test custom tokenizer\n",
    "tokenizer = Tokenizer('custom', custom_chars='.,#,! ')\n",
    "tokenizer.tokenize('Hello World. How are you?#I am fine!#How about you?')"
   ]
  },
  {
   "cell_type": "code",
   "execution_count": 61,
   "metadata": {},
   "outputs": [
    {
     "data": {
      "text/plain": [
       "['ഹലോ', 'വേൾഡ്', 'ഹോ', 'ആർ', 'യു?', 'ഞാൻ', 'നല്ലതാണ്', 'നിങ്ങൾ', 'എന്താണ്?']"
      ]
     },
     "execution_count": 61,
     "metadata": {},
     "output_type": "execute_result"
    }
   ],
   "source": [
    "# test with malayalam text\n",
    "tokenizer = Tokenizer('custom', custom_chars='.,#,! ')\n",
    "tokenizer.tokenize('ഹലോ വേൾഡ്. ഹോ ആർ യു?#ഞാൻ നല്ലതാണ്!#നിങ്ങൾ എന്താണ്?')"
   ]
  }
 ],
 "metadata": {
  "kernelspec": {
   "display_name": "base",
   "language": "python",
   "name": "python3"
  },
  "language_info": {
   "codemirror_mode": {
    "name": "ipython",
    "version": 3
   },
   "file_extension": ".py",
   "mimetype": "text/x-python",
   "name": "python",
   "nbconvert_exporter": "python",
   "pygments_lexer": "ipython3",
   "version": "3.9.13"
  },
  "orig_nbformat": 4
 },
 "nbformat": 4,
 "nbformat_minor": 2
}
